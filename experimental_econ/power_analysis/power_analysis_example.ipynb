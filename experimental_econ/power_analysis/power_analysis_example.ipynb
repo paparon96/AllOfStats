{
 "cells": [
  {
   "cell_type": "markdown",
   "metadata": {},
   "source": [
    "# Import packages"
   ]
  },
  {
   "cell_type": "code",
   "execution_count": 1,
   "metadata": {},
   "outputs": [],
   "source": [
    "import numpy as np\n",
    "import scipy.stats\n",
    "\n",
    "import matplotlib.pyplot as plt\n",
    "%matplotlib inline"
   ]
  },
  {
   "cell_type": "markdown",
   "metadata": {},
   "source": [
    "# Custom functions"
   ]
  },
  {
   "cell_type": "code",
   "execution_count": 67,
   "metadata": {},
   "outputs": [],
   "source": [
    "def generate_sample(mean, std, n):\n",
    "    return np.random.normal(loc=mean, scale=std, size=int(n))"
   ]
  },
  {
   "cell_type": "code",
   "execution_count": 68,
   "metadata": {},
   "outputs": [],
   "source": [
    "def critical_value(significance_level, n):\n",
    "    return scipy.stats.t.ppf(q=1-significance_level, df=n-1)"
   ]
  },
  {
   "cell_type": "code",
   "execution_count": 69,
   "metadata": {},
   "outputs": [],
   "source": [
    "def mde(alpha, power, n, variance, p):\n",
    "    \"\"\"\n",
    "    Calculated Minimum Detectable Effect\n",
    "    \"\"\"\n",
    "    return (critical_value(power, n) + critical_value(alpha/2, n)) * np.sqrt(variance / (n * p * (1 - p)))"
   ]
  },
  {
   "cell_type": "code",
   "execution_count": 70,
   "metadata": {},
   "outputs": [],
   "source": [
    "def standard_error(variance_1, variance_2, n_1, n_2):\n",
    "    return np.sqrt(variance_1/n_1 + variance_2/n_2)"
   ]
  },
  {
   "cell_type": "code",
   "execution_count": 73,
   "metadata": {},
   "outputs": [],
   "source": [
    "def sample_test_reject_yn(n, p, b_control_true, b_treatment_true, variance, alpha):\n",
    "    # Generate observations\n",
    "    n_1 = int(n * p)\n",
    "    n_2 = n - n_1\n",
    "    control_x = generate_sample(b_control_true, np.sqrt(variance), n_1)\n",
    "    treatment_x = generate_sample(b_treatment_true, np.sqrt(variance), n_2)\n",
    "\n",
    "    # Get critical value\n",
    "    critical_val = critical_value(alpha, min(n_1, n_2))\n",
    "\n",
    "    # Get test statistic\n",
    "    test_statistic = (np.mean(treatment_x) - np.mean(control_x)) / standard_error(np.var(control_x), np.var(treatment_x), n_1, n_2)\n",
    "\n",
    "    return test_statistic > critical_val"
   ]
  },
  {
   "cell_type": "code",
   "execution_count": 74,
   "metadata": {},
   "outputs": [],
   "source": [
    "def experiment(n, b, p, b_control_true, b_treatment_true, variance, alpha):\n",
    "    results = []\n",
    "    for i in range(b):\n",
    "        res = sample_test_reject_yn(n, p, b_control_true, b_treatment_true, variance, alpha)\n",
    "        results.append(res)\n",
    "\n",
    "    return np.array(results).astype(int)"
   ]
  },
  {
   "cell_type": "markdown",
   "metadata": {},
   "source": [
    "# Parameters"
   ]
  },
  {
   "cell_type": "code",
   "execution_count": 75,
   "metadata": {},
   "outputs": [],
   "source": [
    "n = 1000\n",
    "b = 100\n",
    "p = 0.1\n",
    "b_control_true = 0\n",
    "b_treatment_true = 1\n",
    "variance = 1\n",
    "alpha = 0.05\n",
    "power = 0.8"
   ]
  },
  {
   "cell_type": "markdown",
   "metadata": {},
   "source": [
    "# Experiment"
   ]
  },
  {
   "cell_type": "markdown",
   "metadata": {},
   "source": [
    "Our hypothesis testing looks the following:\n",
    "$$\n",
    "H_0: \\beta_{treatment} - \\beta_{control} <= 0\n",
    "$$\n",
    "\n",
    "$$\n",
    "H_1: \\beta_{treatment} - \\beta_{control} > 0\n",
    "$$"
   ]
  },
  {
   "cell_type": "markdown",
   "metadata": {},
   "source": [
    "## Calculate expected MDE"
   ]
  },
  {
   "cell_type": "code",
   "execution_count": 76,
   "metadata": {},
   "outputs": [
    {
     "name": "stdout",
     "output_type": "stream",
     "text": [
      "0.1180963427074951\n"
     ]
    }
   ],
   "source": [
    "expected_mde = mde(alpha, power, n, variance, p)\n",
    "print(expected_mde)"
   ]
  },
  {
   "cell_type": "markdown",
   "metadata": {},
   "source": [
    "## Run the experiment"
   ]
  },
  {
   "cell_type": "code",
   "execution_count": 84,
   "metadata": {},
   "outputs": [],
   "source": [
    "treatment_betas = np.arange(0, 1, 0.1)\n"
   ]
  },
  {
   "cell_type": "code",
   "execution_count": 85,
   "metadata": {},
   "outputs": [],
   "source": [
    "experiment_results = []\n",
    "for treatment_beta in treatment_betas:\n",
    "    results = experiment(n, b, p, b_control_true, treatment_beta, variance, alpha)\n",
    "    experiment_results.append(np.mean(results))\n"
   ]
  },
  {
   "cell_type": "markdown",
   "metadata": {},
   "source": [
    "## Visualize results"
   ]
  },
  {
   "cell_type": "code",
   "execution_count": 86,
   "metadata": {},
   "outputs": [
    {
     "data": {
      "image/png": "[encoded data removed]",
      "text/plain": [
       "<Figure size 640x480 with 1 Axes>"
      ]
     },
     "metadata": {},
     "output_type": "display_data"
    }
   ],
   "source": [
    "plt.plot(treatment_betas, experiment_results, marker=\"s\")\n",
    "plt.axvline(expected_mde, label=\"Calculated MDE\", color=\"red\")\n",
    "plt.axhline(power, label=\"Power\", color=\"orange\")\n",
    "\n",
    "plt.legend(loc='lower right')\n",
    "plt.show()"
   ]
  },
  {
   "cell_type": "markdown",
   "metadata": {},
   "source": [
    "This suggests that something is wrong with my calculation (theoretically the curve should cross at the intersection of *power* and *MDE*!"
   ]
  },
  {
   "cell_type": "markdown",
   "metadata": {},
   "source": [
    "# Support"
   ]
  },
  {
   "cell_type": "code",
   "execution_count": null,
   "metadata": {},
   "outputs": [
    {
     "data": {
      "text/plain": [
       "True"
      ]
     },
     "execution_count": 44,
     "metadata": {},
     "output_type": "execute_result"
    }
   ],
   "source": [
    "sample_test_reject_yn(n, p, b_control_true, b_treatment_true, variance, alpha)"
   ]
  },
  {
   "cell_type": "code",
   "execution_count": null,
   "metadata": {},
   "outputs": [
    {
     "data": {
      "text/plain": [
       "1.9623414611334487"
      ]
     },
     "execution_count": 33,
     "metadata": {},
     "output_type": "execute_result"
    }
   ],
   "source": [
    "critical_value(0.025, 1000)"
   ]
  },
  {
   "cell_type": "code",
   "execution_count": null,
   "metadata": {},
   "outputs": [
    {
     "data": {
      "image/png": "[encoded data removed]",
      "text/plain": [
       "<Figure size 640x480 with 1 Axes>"
      ]
     },
     "metadata": {},
     "output_type": "display_data"
    }
   ],
   "source": [
    "x = generate_sample(b_control_true, np.sqrt(variance), n * p)\n",
    "plt.hist(x)\n",
    "plt.show()"
   ]
  },
  {
   "cell_type": "code",
   "execution_count": null,
   "metadata": {},
   "outputs": [],
   "source": [
    "results = experiment(n, b, p, b_control_true, b_treatment_true, variance, alpha)"
   ]
  },
  {
   "cell_type": "code",
   "execution_count": null,
   "metadata": {},
   "outputs": [],
   "source": [
    "np.mean(results)"
   ]
  }
 ],
 "metadata": {
  "kernelspec": {
   "display_name": "Python 3.8.13 ('mlops-course')",
   "language": "python",
   "name": "python3"
  },
  "language_info": {
   "codemirror_mode": {
    "name": "ipython",
    "version": 3
   },
   "file_extension": ".py",
   "mimetype": "text/x-python",
   "name": "python",
   "nbconvert_exporter": "python",
   "pygments_lexer": "ipython3",
   "version": "3.8.13"
  },
  "orig_nbformat": 4,
  "vscode": {
   "interpreter": {
    "hash": "64350ad345ca6d0ea13dbd5a2e19ad48babc5c17f2285d647c3fd647776889c7"
   }
  }
 },
 "nbformat": 4,
 "nbformat_minor": 2
}
